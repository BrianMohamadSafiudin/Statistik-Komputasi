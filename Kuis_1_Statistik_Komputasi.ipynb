{
  "nbformat": 4,
  "nbformat_minor": 0,
  "metadata": {
    "colab": {
      "provenance": [],
      "authorship_tag": "ABX9TyMNRpp3wQkzdxd7i8spe05H",
      "include_colab_link": true
    },
    "kernelspec": {
      "name": "python3",
      "display_name": "Python 3"
    },
    "language_info": {
      "name": "python"
    }
  },
  "cells": [
    {
      "cell_type": "markdown",
      "metadata": {
        "id": "view-in-github",
        "colab_type": "text"
      },
      "source": [
        "<a href=\"https://colab.research.google.com/github/BrianMohamadSafiudin/Statistik-Komputasi/blob/main/Kuis_1_Statistik_Komputasi.ipynb\" target=\"_parent\"><img src=\"https://colab.research.google.com/assets/colab-badge.svg\" alt=\"Open In Colab\"/></a>"
      ]
    },
    {
      "cell_type": "code",
      "execution_count": 1,
      "metadata": {
        "colab": {
          "base_uri": "https://localhost:8080/",
          "height": 72
        },
        "id": "pMch5Rh0hyRh",
        "outputId": "eb0bebd6-ee72-455a-abd9-01415b0ab861"
      },
      "outputs": [
        {
          "output_type": "display_data",
          "data": {
            "text/plain": [
              "<IPython.core.display.HTML object>"
            ],
            "text/html": [
              "\n",
              "     <input type=\"file\" id=\"files-cc5ff535-725d-4656-881d-8c2e0c7d574b\" name=\"files[]\" multiple disabled\n",
              "        style=\"border:none\" />\n",
              "     <output id=\"result-cc5ff535-725d-4656-881d-8c2e0c7d574b\">\n",
              "      Upload widget is only available when the cell has been executed in the\n",
              "      current browser session. Please rerun this cell to enable.\n",
              "      </output>\n",
              "      <script>// Copyright 2017 Google LLC\n",
              "//\n",
              "// Licensed under the Apache License, Version 2.0 (the \"License\");\n",
              "// you may not use this file except in compliance with the License.\n",
              "// You may obtain a copy of the License at\n",
              "//\n",
              "//      http://www.apache.org/licenses/LICENSE-2.0\n",
              "//\n",
              "// Unless required by applicable law or agreed to in writing, software\n",
              "// distributed under the License is distributed on an \"AS IS\" BASIS,\n",
              "// WITHOUT WARRANTIES OR CONDITIONS OF ANY KIND, either express or implied.\n",
              "// See the License for the specific language governing permissions and\n",
              "// limitations under the License.\n",
              "\n",
              "/**\n",
              " * @fileoverview Helpers for google.colab Python module.\n",
              " */\n",
              "(function(scope) {\n",
              "function span(text, styleAttributes = {}) {\n",
              "  const element = document.createElement('span');\n",
              "  element.textContent = text;\n",
              "  for (const key of Object.keys(styleAttributes)) {\n",
              "    element.style[key] = styleAttributes[key];\n",
              "  }\n",
              "  return element;\n",
              "}\n",
              "\n",
              "// Max number of bytes which will be uploaded at a time.\n",
              "const MAX_PAYLOAD_SIZE = 100 * 1024;\n",
              "\n",
              "function _uploadFiles(inputId, outputId) {\n",
              "  const steps = uploadFilesStep(inputId, outputId);\n",
              "  const outputElement = document.getElementById(outputId);\n",
              "  // Cache steps on the outputElement to make it available for the next call\n",
              "  // to uploadFilesContinue from Python.\n",
              "  outputElement.steps = steps;\n",
              "\n",
              "  return _uploadFilesContinue(outputId);\n",
              "}\n",
              "\n",
              "// This is roughly an async generator (not supported in the browser yet),\n",
              "// where there are multiple asynchronous steps and the Python side is going\n",
              "// to poll for completion of each step.\n",
              "// This uses a Promise to block the python side on completion of each step,\n",
              "// then passes the result of the previous step as the input to the next step.\n",
              "function _uploadFilesContinue(outputId) {\n",
              "  const outputElement = document.getElementById(outputId);\n",
              "  const steps = outputElement.steps;\n",
              "\n",
              "  const next = steps.next(outputElement.lastPromiseValue);\n",
              "  return Promise.resolve(next.value.promise).then((value) => {\n",
              "    // Cache the last promise value to make it available to the next\n",
              "    // step of the generator.\n",
              "    outputElement.lastPromiseValue = value;\n",
              "    return next.value.response;\n",
              "  });\n",
              "}\n",
              "\n",
              "/**\n",
              " * Generator function which is called between each async step of the upload\n",
              " * process.\n",
              " * @param {string} inputId Element ID of the input file picker element.\n",
              " * @param {string} outputId Element ID of the output display.\n",
              " * @return {!Iterable<!Object>} Iterable of next steps.\n",
              " */\n",
              "function* uploadFilesStep(inputId, outputId) {\n",
              "  const inputElement = document.getElementById(inputId);\n",
              "  inputElement.disabled = false;\n",
              "\n",
              "  const outputElement = document.getElementById(outputId);\n",
              "  outputElement.innerHTML = '';\n",
              "\n",
              "  const pickedPromise = new Promise((resolve) => {\n",
              "    inputElement.addEventListener('change', (e) => {\n",
              "      resolve(e.target.files);\n",
              "    });\n",
              "  });\n",
              "\n",
              "  const cancel = document.createElement('button');\n",
              "  inputElement.parentElement.appendChild(cancel);\n",
              "  cancel.textContent = 'Cancel upload';\n",
              "  const cancelPromise = new Promise((resolve) => {\n",
              "    cancel.onclick = () => {\n",
              "      resolve(null);\n",
              "    };\n",
              "  });\n",
              "\n",
              "  // Wait for the user to pick the files.\n",
              "  const files = yield {\n",
              "    promise: Promise.race([pickedPromise, cancelPromise]),\n",
              "    response: {\n",
              "      action: 'starting',\n",
              "    }\n",
              "  };\n",
              "\n",
              "  cancel.remove();\n",
              "\n",
              "  // Disable the input element since further picks are not allowed.\n",
              "  inputElement.disabled = true;\n",
              "\n",
              "  if (!files) {\n",
              "    return {\n",
              "      response: {\n",
              "        action: 'complete',\n",
              "      }\n",
              "    };\n",
              "  }\n",
              "\n",
              "  for (const file of files) {\n",
              "    const li = document.createElement('li');\n",
              "    li.append(span(file.name, {fontWeight: 'bold'}));\n",
              "    li.append(span(\n",
              "        `(${file.type || 'n/a'}) - ${file.size} bytes, ` +\n",
              "        `last modified: ${\n",
              "            file.lastModifiedDate ? file.lastModifiedDate.toLocaleDateString() :\n",
              "                                    'n/a'} - `));\n",
              "    const percent = span('0% done');\n",
              "    li.appendChild(percent);\n",
              "\n",
              "    outputElement.appendChild(li);\n",
              "\n",
              "    const fileDataPromise = new Promise((resolve) => {\n",
              "      const reader = new FileReader();\n",
              "      reader.onload = (e) => {\n",
              "        resolve(e.target.result);\n",
              "      };\n",
              "      reader.readAsArrayBuffer(file);\n",
              "    });\n",
              "    // Wait for the data to be ready.\n",
              "    let fileData = yield {\n",
              "      promise: fileDataPromise,\n",
              "      response: {\n",
              "        action: 'continue',\n",
              "      }\n",
              "    };\n",
              "\n",
              "    // Use a chunked sending to avoid message size limits. See b/62115660.\n",
              "    let position = 0;\n",
              "    do {\n",
              "      const length = Math.min(fileData.byteLength - position, MAX_PAYLOAD_SIZE);\n",
              "      const chunk = new Uint8Array(fileData, position, length);\n",
              "      position += length;\n",
              "\n",
              "      const base64 = btoa(String.fromCharCode.apply(null, chunk));\n",
              "      yield {\n",
              "        response: {\n",
              "          action: 'append',\n",
              "          file: file.name,\n",
              "          data: base64,\n",
              "        },\n",
              "      };\n",
              "\n",
              "      let percentDone = fileData.byteLength === 0 ?\n",
              "          100 :\n",
              "          Math.round((position / fileData.byteLength) * 100);\n",
              "      percent.textContent = `${percentDone}% done`;\n",
              "\n",
              "    } while (position < fileData.byteLength);\n",
              "  }\n",
              "\n",
              "  // All done.\n",
              "  yield {\n",
              "    response: {\n",
              "      action: 'complete',\n",
              "    }\n",
              "  };\n",
              "}\n",
              "\n",
              "scope.google = scope.google || {};\n",
              "scope.google.colab = scope.google.colab || {};\n",
              "scope.google.colab._files = {\n",
              "  _uploadFiles,\n",
              "  _uploadFilesContinue,\n",
              "};\n",
              "})(self);\n",
              "</script> "
            ]
          },
          "metadata": {}
        },
        {
          "output_type": "stream",
          "name": "stdout",
          "text": [
            "Saving ecommerce_lite.csv to ecommerce_lite.csv\n"
          ]
        }
      ],
      "source": [
        "from google.colab import files\n",
        "uploaded = files.upload()"
      ]
    },
    {
      "cell_type": "code",
      "source": [
        "import numpy as np\n",
        "import pandas as pd\n",
        "data = pd.read_csv(\"ecommerce_lite.csv\")\n",
        "median = data[\"Quantity\"].median()\n",
        "print(median)"
      ],
      "metadata": {
        "colab": {
          "base_uri": "https://localhost:8080/"
        },
        "id": "fGVjPzPGiERT",
        "outputId": "4459789e-365d-4358-837f-0790d7417cd4"
      },
      "execution_count": 51,
      "outputs": [
        {
          "output_type": "stream",
          "name": "stdout",
          "text": [
            "6.0\n"
          ]
        }
      ]
    },
    {
      "cell_type": "code",
      "source": [
        "import numpy as np\n",
        "import pandas as pd\n",
        "\n",
        "data = pd.read_csv(\"ecommerce_lite.csv\")\n",
        "data_baru = data[\"Quantity\"]\n",
        "print(pd.DataFrame(data_baru).describe())\n"
      ],
      "metadata": {
        "colab": {
          "base_uri": "https://localhost:8080/"
        },
        "id": "2NZbp4NmopMD",
        "outputId": "ff35ebfd-1484-4548-edc7-8a661f5aeab7"
      },
      "execution_count": 15,
      "outputs": [
        {
          "output_type": "stream",
          "name": "stdout",
          "text": [
            "           Quantity\n",
            "count  39411.000000\n",
            "mean      12.582401\n",
            "std       42.461230\n",
            "min        1.000000\n",
            "25%        2.000000\n",
            "50%        6.000000\n",
            "75%       12.000000\n",
            "max     4300.000000\n"
          ]
        }
      ]
    },
    {
      "cell_type": "code",
      "source": [
        "lower_fence = -13\n",
        "upper_fence = 27\n",
        "\n",
        "data = pd.read_csv(\"ecommerce_lite.csv\")\n",
        "data2 = data[\"Quantity\"]\n",
        "# Mencari data yang dianggap sebagai outlier\n",
        "outlier_upper = data2[data2 > upper_fence].dropna()\n",
        "outlier_lower = data2[data2 < lower_fence].dropna()\n",
        "\n",
        "jumlah_outlier = len(outlier_upper) + len(outlier_lower)\n",
        "print(\"Jumlah outlier:\", jumlah_outlier)"
      ],
      "metadata": {
        "colab": {
          "base_uri": "https://localhost:8080/"
        },
        "id": "fZEtiV5lqnvr",
        "outputId": "57c9d3ec-5fbd-4613-e80d-9165541724d6"
      },
      "execution_count": 50,
      "outputs": [
        {
          "output_type": "stream",
          "name": "stdout",
          "text": [
            "Jumlah outlier: 2512\n"
          ]
        }
      ]
    },
    {
      "cell_type": "code",
      "source": [
        "lower_fence = 2 - 1.5 * 10\n",
        "upper_fence = 12 + 1.5 * 10\n",
        "print(lower_fence)\n",
        "print(upper_fence)"
      ],
      "metadata": {
        "colab": {
          "base_uri": "https://localhost:8080/"
        },
        "id": "kbYRuXb-rIG_",
        "outputId": "dc7197b5-6491-40f0-d74a-6bbf25bf9bef"
      },
      "execution_count": 49,
      "outputs": [
        {
          "output_type": "stream",
          "name": "stdout",
          "text": [
            "-13.0\n",
            "27.0\n"
          ]
        }
      ]
    },
    {
      "cell_type": "code",
      "source": [
        "import pandas as pd\n",
        "import matplotlib.pyplot as plt\n",
        "\n",
        "# Load data from CSV file\n",
        "data = pd.read_csv(\"ecommerce_lite.csv\")\n",
        "\n",
        "# Determine the number of intervals desired\n",
        "num_intervals = 4\n",
        "\n",
        "# Calculate the range for each interval\n",
        "data_range = max(data['Quantity']) - min(data['Quantity'])\n",
        "interval_size = data_range / num_intervals\n",
        "\n",
        "# Define the intervals\n",
        "intervals = []\n",
        "for i in range(num_intervals):\n",
        "    start = min(data['Quantity']) + i * interval_size\n",
        "    end = start + interval_size\n",
        "    intervals.append((start, end))\n",
        "\n",
        "# Count the number of data points in each interval\n",
        "histogram = []\n",
        "for interval in intervals:\n",
        "    count = len(data[(data['Quantity'] >= interval[0]) & (data['Quantity'] < interval[1])])\n",
        "    histogram.append(count)\n",
        "\n",
        "# Plot the histogram\n",
        "plt.bar(range(num_intervals), histogram)\n",
        "plt.xticks(range(num_intervals), [f'{interval[0]}-{interval[1]}' for interval in intervals])\n",
        "plt.xlabel('Interval')\n",
        "plt.ylabel('Frequency')\n",
        "plt.title('Histogram Rentang Bebas')\n",
        "plt.show()\n",
        "\n"
      ],
      "metadata": {
        "colab": {
          "base_uri": "https://localhost:8080/",
          "height": 295
        },
        "id": "EQH0M5aBrX0h",
        "outputId": "8772964c-901c-42b7-c64e-4956adbc311d"
      },
      "execution_count": 48,
      "outputs": [
        {
          "output_type": "display_data",
          "data": {
            "text/plain": [
              "<Figure size 432x288 with 1 Axes>"
            ],
            "image/png": "[encoded data removed]"
          },
          "metadata": {
            "needs_background": "light"
          }
        }
      ]
    },
    {
      "cell_type": "code",
      "source": [
        "import pandas as pd\n",
        "\n",
        "# Membaca data dari file csv\n",
        "data = pd.read_csv(\"ecommerce_lite.csv\")\n",
        "\n",
        "# Menghitung jumlah penjualan untuk kode stok '22423' untuk setiap negara\n",
        "penjualan = data[data['StockCode'] == '22423'].groupby('Country')['Quantity'].sum()\n",
        "\n",
        "# Menampilkan hasil\n",
        "print(penjualan)"
      ],
      "metadata": {
        "colab": {
          "base_uri": "https://localhost:8080/"
        },
        "id": "N1GIdRa3skdK",
        "outputId": "47e35622-4a6e-4411-a70f-5ce1e6685154"
      },
      "execution_count": 28,
      "outputs": [
        {
          "output_type": "stream",
          "name": "stdout",
          "text": [
            "Country\n",
            "Australia          32.0\n",
            "Belgium             3.0\n",
            "EIRE               33.0\n",
            "France             34.0\n",
            "Germany           105.0\n",
            "Greece             16.0\n",
            "Norway              4.0\n",
            "United Kingdom    861.0\n",
            "Name: Quantity, dtype: float64\n"
          ]
        }
      ]
    },
    {
      "cell_type": "code",
      "source": [
        "import pandas as pd\n",
        "\n",
        "# Membaca data dari file csv\n",
        "data = pd.read_csv(\"ecommerce_lite.csv\")\n",
        "\n",
        "# Menghitung jumlah penjualan untuk kode stok '22423' untuk setiap negara\n",
        "penjualan = data[data['StockCode'] == '22423'].groupby('Country')['Quantity'].sum()\n",
        "\n",
        "# Menghitung total penjualan untuk kode stok '22423'\n",
        "total_penjualan = penjualan.sum()\n",
        "\n",
        "# Menghitung persentase penjualan untuk tiap-tiap negara\n",
        "persentase_penjualan = (penjualan / total_penjualan) * 100\n",
        "\n",
        "# Menampilkan hasil\n",
        "print(persentase_penjualan)\n"
      ],
      "metadata": {
        "colab": {
          "base_uri": "https://localhost:8080/"
        },
        "id": "Qj9yzDios_9Y",
        "outputId": "8d27083c-80f0-40d3-8dc0-f9ca73d08f38"
      },
      "execution_count": 34,
      "outputs": [
        {
          "output_type": "stream",
          "name": "stdout",
          "text": [
            "Country\n",
            "Australia          2.941176\n",
            "Belgium            0.275735\n",
            "EIRE               3.033088\n",
            "France             3.125000\n",
            "Germany            9.650735\n",
            "Greece             1.470588\n",
            "Norway             0.367647\n",
            "United Kingdom    79.136029\n",
            "Name: Quantity, dtype: float64\n"
          ]
        }
      ]
    },
    {
      "cell_type": "code",
      "source": [
        "import pandas as pd\n",
        "\n",
        "# Membaca data dari file csv\n",
        "data = pd.read_csv(\"ecommerce_lite.csv\")\n",
        "\n",
        "# Mengelompokkan data berdasarkan kode stok dan menghitung total penjualan\n",
        "penjualan_per_stok = data.groupby('StockCode')['Quantity'].sum()\n",
        "\n",
        "# Menampilkan lima item dengan penjualan teratas berdasarkan kode stok\n",
        "lima_teratas = penjualan_per_stok.nlargest(5)\n",
        "print(lima_teratas)\n"
      ],
      "metadata": {
        "colab": {
          "base_uri": "https://localhost:8080/"
        },
        "id": "omyuXoK1uQhK",
        "outputId": "e0099ff8-ccb8-415b-deab-625d51811cee"
      },
      "execution_count": 30,
      "outputs": [
        {
          "output_type": "stream",
          "name": "stdout",
          "text": [
            "StockCode\n",
            "22197     7770.0\n",
            "85099B    6675.0\n",
            "85123A    6461.0\n",
            "84077     3916.0\n",
            "21212     3629.0\n",
            "Name: Quantity, dtype: float64\n"
          ]
        }
      ]
    }
  ]
}