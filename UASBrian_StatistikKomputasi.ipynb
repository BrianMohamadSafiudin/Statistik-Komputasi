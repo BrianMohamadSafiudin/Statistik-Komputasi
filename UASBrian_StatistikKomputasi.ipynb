{
  "nbformat": 4,
  "nbformat_minor": 0,
  "metadata": {
    "colab": {
      "provenance": [],
      "authorship_tag": "ABX9TyOkorIQ+/4xYfd3wYyQoUVm",
      "include_colab_link": true
    },
    "kernelspec": {
      "name": "python3",
      "display_name": "Python 3"
    },
    "language_info": {
      "name": "python"
    }
  },
  "cells": [
    {
      "cell_type": "markdown",
      "metadata": {
        "id": "view-in-github",
        "colab_type": "text"
      },
      "source": [
        "<a href=\"https://colab.research.google.com/github/BrianMohamadSafiudin/Statistik-Komputasi/blob/main/UASBrian_StatistikKomputasi.ipynb\" target=\"_parent\"><img src=\"https://colab.research.google.com/assets/colab-badge.svg\" alt=\"Open In Colab\"/></a>"
      ]
    },
    {
      "cell_type": "code",
      "execution_count": 1,
      "metadata": {
        "colab": {
          "base_uri": "https://localhost:8080/",
          "height": 73
        },
        "id": "4Z00GJGU8oJ0",
        "outputId": "8f5e4bb7-b125-4892-cd94-8e3d6d4dfd86"
      },
      "outputs": [
        {
          "output_type": "display_data",
          "data": {
            "text/plain": [
              "<IPython.core.display.HTML object>"
            ],
            "text/html": [
              "\n",
              "     <input type=\"file\" id=\"files-bed6b8a9-e4df-4c17-9706-c801aac5f6c7\" name=\"files[]\" multiple disabled\n",
              "        style=\"border:none\" />\n",
              "     <output id=\"result-bed6b8a9-e4df-4c17-9706-c801aac5f6c7\">\n",
              "      Upload widget is only available when the cell has been executed in the\n",
              "      current browser session. Please rerun this cell to enable.\n",
              "      </output>\n",
              "      <script>// Copyright 2017 Google LLC\n",
              "//\n",
              "// Licensed under the Apache License, Version 2.0 (the \"License\");\n",
              "// you may not use this file except in compliance with the License.\n",
              "// You may obtain a copy of the License at\n",
              "//\n",
              "//      http://www.apache.org/licenses/LICENSE-2.0\n",
              "//\n",
              "// Unless required by applicable law or agreed to in writing, software\n",
              "// distributed under the License is distributed on an \"AS IS\" BASIS,\n",
              "// WITHOUT WARRANTIES OR CONDITIONS OF ANY KIND, either express or implied.\n",
              "// See the License for the specific language governing permissions and\n",
              "// limitations under the License.\n",
              "\n",
              "/**\n",
              " * @fileoverview Helpers for google.colab Python module.\n",
              " */\n",
              "(function(scope) {\n",
              "function span(text, styleAttributes = {}) {\n",
              "  const element = document.createElement('span');\n",
              "  element.textContent = text;\n",
              "  for (const key of Object.keys(styleAttributes)) {\n",
              "    element.style[key] = styleAttributes[key];\n",
              "  }\n",
              "  return element;\n",
              "}\n",
              "\n",
              "// Max number of bytes which will be uploaded at a time.\n",
              "const MAX_PAYLOAD_SIZE = 100 * 1024;\n",
              "\n",
              "function _uploadFiles(inputId, outputId) {\n",
              "  const steps = uploadFilesStep(inputId, outputId);\n",
              "  const outputElement = document.getElementById(outputId);\n",
              "  // Cache steps on the outputElement to make it available for the next call\n",
              "  // to uploadFilesContinue from Python.\n",
              "  outputElement.steps = steps;\n",
              "\n",
              "  return _uploadFilesContinue(outputId);\n",
              "}\n",
              "\n",
              "// This is roughly an async generator (not supported in the browser yet),\n",
              "// where there are multiple asynchronous steps and the Python side is going\n",
              "// to poll for completion of each step.\n",
              "// This uses a Promise to block the python side on completion of each step,\n",
              "// then passes the result of the previous step as the input to the next step.\n",
              "function _uploadFilesContinue(outputId) {\n",
              "  const outputElement = document.getElementById(outputId);\n",
              "  const steps = outputElement.steps;\n",
              "\n",
              "  const next = steps.next(outputElement.lastPromiseValue);\n",
              "  return Promise.resolve(next.value.promise).then((value) => {\n",
              "    // Cache the last promise value to make it available to the next\n",
              "    // step of the generator.\n",
              "    outputElement.lastPromiseValue = value;\n",
              "    return next.value.response;\n",
              "  });\n",
              "}\n",
              "\n",
              "/**\n",
              " * Generator function which is called between each async step of the upload\n",
              " * process.\n",
              " * @param {string} inputId Element ID of the input file picker element.\n",
              " * @param {string} outputId Element ID of the output display.\n",
              " * @return {!Iterable<!Object>} Iterable of next steps.\n",
              " */\n",
              "function* uploadFilesStep(inputId, outputId) {\n",
              "  const inputElement = document.getElementById(inputId);\n",
              "  inputElement.disabled = false;\n",
              "\n",
              "  const outputElement = document.getElementById(outputId);\n",
              "  outputElement.innerHTML = '';\n",
              "\n",
              "  const pickedPromise = new Promise((resolve) => {\n",
              "    inputElement.addEventListener('change', (e) => {\n",
              "      resolve(e.target.files);\n",
              "    });\n",
              "  });\n",
              "\n",
              "  const cancel = document.createElement('button');\n",
              "  inputElement.parentElement.appendChild(cancel);\n",
              "  cancel.textContent = 'Cancel upload';\n",
              "  const cancelPromise = new Promise((resolve) => {\n",
              "    cancel.onclick = () => {\n",
              "      resolve(null);\n",
              "    };\n",
              "  });\n",
              "\n",
              "  // Wait for the user to pick the files.\n",
              "  const files = yield {\n",
              "    promise: Promise.race([pickedPromise, cancelPromise]),\n",
              "    response: {\n",
              "      action: 'starting',\n",
              "    }\n",
              "  };\n",
              "\n",
              "  cancel.remove();\n",
              "\n",
              "  // Disable the input element since further picks are not allowed.\n",
              "  inputElement.disabled = true;\n",
              "\n",
              "  if (!files) {\n",
              "    return {\n",
              "      response: {\n",
              "        action: 'complete',\n",
              "      }\n",
              "    };\n",
              "  }\n",
              "\n",
              "  for (const file of files) {\n",
              "    const li = document.createElement('li');\n",
              "    li.append(span(file.name, {fontWeight: 'bold'}));\n",
              "    li.append(span(\n",
              "        `(${file.type || 'n/a'}) - ${file.size} bytes, ` +\n",
              "        `last modified: ${\n",
              "            file.lastModifiedDate ? file.lastModifiedDate.toLocaleDateString() :\n",
              "                                    'n/a'} - `));\n",
              "    const percent = span('0% done');\n",
              "    li.appendChild(percent);\n",
              "\n",
              "    outputElement.appendChild(li);\n",
              "\n",
              "    const fileDataPromise = new Promise((resolve) => {\n",
              "      const reader = new FileReader();\n",
              "      reader.onload = (e) => {\n",
              "        resolve(e.target.result);\n",
              "      };\n",
              "      reader.readAsArrayBuffer(file);\n",
              "    });\n",
              "    // Wait for the data to be ready.\n",
              "    let fileData = yield {\n",
              "      promise: fileDataPromise,\n",
              "      response: {\n",
              "        action: 'continue',\n",
              "      }\n",
              "    };\n",
              "\n",
              "    // Use a chunked sending to avoid message size limits. See b/62115660.\n",
              "    let position = 0;\n",
              "    do {\n",
              "      const length = Math.min(fileData.byteLength - position, MAX_PAYLOAD_SIZE);\n",
              "      const chunk = new Uint8Array(fileData, position, length);\n",
              "      position += length;\n",
              "\n",
              "      const base64 = btoa(String.fromCharCode.apply(null, chunk));\n",
              "      yield {\n",
              "        response: {\n",
              "          action: 'append',\n",
              "          file: file.name,\n",
              "          data: base64,\n",
              "        },\n",
              "      };\n",
              "\n",
              "      let percentDone = fileData.byteLength === 0 ?\n",
              "          100 :\n",
              "          Math.round((position / fileData.byteLength) * 100);\n",
              "      percent.textContent = `${percentDone}% done`;\n",
              "\n",
              "    } while (position < fileData.byteLength);\n",
              "  }\n",
              "\n",
              "  // All done.\n",
              "  yield {\n",
              "    response: {\n",
              "      action: 'complete',\n",
              "    }\n",
              "  };\n",
              "}\n",
              "\n",
              "scope.google = scope.google || {};\n",
              "scope.google.colab = scope.google.colab || {};\n",
              "scope.google.colab._files = {\n",
              "  _uploadFiles,\n",
              "  _uploadFilesContinue,\n",
              "};\n",
              "})(self);\n",
              "</script> "
            ]
          },
          "metadata": {}
        },
        {
          "output_type": "stream",
          "name": "stdout",
          "text": [
            "Saving Walmart.csv to Walmart.csv\n"
          ]
        }
      ],
      "source": [
        "from google.colab import files\n",
        "uploaded = files.upload()\n"
      ]
    },
    {
      "cell_type": "code",
      "source": [
        "# 1b Brian Mohamad Safiudin\n",
        "\n",
        "import pandas as pd\n",
        "\n",
        "# Membaca dataset dari file CSV\n",
        "data = pd.read_csv(\"Walmart.csv\")\n",
        "\n",
        "# Filter data hanya untuk toko dengan nomor 1\n",
        "store_1_data = data[data[\"Store\"] == 1]\n",
        "\n",
        "# Menghitung statistik deskriptif untuk toko 1\n",
        "statistics = store_1_data[[\"Weekly_Sales\", \"Holiday_Flag\", \"Temperature\", \"Fuel_Price\", \"CPI\", \"Unemployment\"]].describe()\n",
        "\n",
        "# Menampilkan statistik deskriptif\n",
        "print(statistics)"
      ],
      "metadata": {
        "colab": {
          "base_uri": "https://localhost:8080/"
        },
        "id": "uavkn-e99t1u",
        "outputId": "baae846c-552b-40b4-be07-59d1805fcf63"
      },
      "execution_count": 5,
      "outputs": [
        {
          "output_type": "stream",
          "name": "stdout",
          "text": [
            "       Weekly_Sales  Holiday_Flag  Temperature  Fuel_Price         CPI  \\\n",
            "count  1.430000e+02    143.000000   143.000000  143.000000  143.000000   \n",
            "mean   1.555264e+06      0.069930    68.306783    3.219699  215.996892   \n",
            "std    1.559808e+05      0.255926    14.250486    0.427313    4.350890   \n",
            "min    1.316899e+06      0.000000    35.400000    2.514000  210.337426   \n",
            "25%    1.458105e+06      0.000000    58.265000    2.764500  211.549277   \n",
            "50%    1.534850e+06      0.000000    69.640000    3.290000  215.459905   \n",
            "75%    1.614892e+06      0.000000    80.485000    3.594000  220.531330   \n",
            "max    2.387950e+06      1.000000    91.650000    3.907000  223.444251   \n",
            "\n",
            "       Unemployment  \n",
            "count    143.000000  \n",
            "mean       7.610420  \n",
            "std        0.383749  \n",
            "min        6.573000  \n",
            "25%        7.348000  \n",
            "50%        7.787000  \n",
            "75%        7.838000  \n",
            "max        8.106000  \n"
          ]
        }
      ]
    },
    {
      "cell_type": "code",
      "source": [
        "# 1c Brian Mohamad Safiudin\n",
        "\n",
        "import pandas as pd\n",
        "\n",
        "# Membaca dataset dari file CSV\n",
        "data = pd.read_csv(\"Walmart.csv\")\n",
        "\n",
        "# Filter data hanya untuk toko dengan nomor 1\n",
        "store_1_data = data[data[\"Store\"] == 1]\n",
        "\n",
        "# Menghitung nilai kuartil dan IQR untuk toko 1\n",
        "fuel_price_stats = store_1_data['Fuel_Price'].describe()\n",
        "cpi_stats = store_1_data['CPI'].describe()\n",
        "unemployment_stats = store_1_data['Unemployment'].describe()\n",
        "\n",
        "# Mendapatkan nilai Q1, Q2, dan Q3\n",
        "fuel_price_q1 = fuel_price_stats['25%']\n",
        "fuel_price_q2 = fuel_price_stats['50%']\n",
        "fuel_price_q3 = fuel_price_stats['75%']\n",
        "\n",
        "cpi_q1 = cpi_stats['25%']\n",
        "cpi_q2 = cpi_stats['50%']\n",
        "cpi_q3 = cpi_stats['75%']\n",
        "\n",
        "unemployment_q1 = unemployment_stats['25%']\n",
        "unemployment_q2 = unemployment_stats['50%']\n",
        "unemployment_q3 = unemployment_stats['75%']\n",
        "\n",
        "# Menghitung IQR (interquartile range)\n",
        "fuel_price_iqr = fuel_price_q3 - fuel_price_q1\n",
        "cpi_iqr = cpi_q3 - cpi_q1\n",
        "unemployment_iqr = unemployment_q3 - unemployment_q1\n",
        "\n",
        "# Menampilkan nilai Q1, Q2, Q3, dan IQR\n",
        "print(\"Fuel_Price:\")\n",
        "print(\"Q1:\", fuel_price_q1)\n",
        "print(\"Q2 (Median):\", fuel_price_q2)\n",
        "print(\"Q3:\", fuel_price_q3)\n",
        "print(\"IQR:\", fuel_price_iqr)\n",
        "\n",
        "print(\"\\nCPI:\")\n",
        "print(\"Q1:\", cpi_q1)\n",
        "print(\"Q2 (Median):\", cpi_q2)\n",
        "print(\"Q3:\", cpi_q3)\n",
        "print(\"IQR:\", cpi_iqr)\n",
        "\n",
        "print(\"\\nUnemployment:\")\n",
        "print(\"Q1:\", unemployment_q1)\n",
        "print(\"Q2 (Median):\", unemployment_q2)\n",
        "print(\"Q3:\", unemployment_q3)\n",
        "print(\"IQR:\", unemployment_iqr)"
      ],
      "metadata": {
        "colab": {
          "base_uri": "https://localhost:8080/"
        },
        "id": "RlPi44-lCA17",
        "outputId": "46ef271f-c6c8-4078-d3d0-ab0eb8fb4418"
      },
      "execution_count": 7,
      "outputs": [
        {
          "output_type": "stream",
          "name": "stdout",
          "text": [
            "Fuel_Price:\n",
            "Q1: 2.7645\n",
            "Q2 (Median): 3.29\n",
            "Q3: 3.594\n",
            "IQR: 0.8294999999999999\n",
            "\n",
            "CPI:\n",
            "Q1: 211.54927675\n",
            "Q2 (Median): 215.4599053\n",
            "Q3: 220.53133029999998\n",
            "IQR: 8.98205354999999\n",
            "\n",
            "Unemployment:\n",
            "Q1: 7.348\n",
            "Q2 (Median): 7.787\n",
            "Q3: 7.838\n",
            "IQR: 0.4900000000000002\n"
          ]
        }
      ]
    },
    {
      "cell_type": "code",
      "source": [
        "# 1d Brian Mohamad Safiudin\n",
        "\n",
        "import pandas as pd\n",
        "\n",
        "# Membaca dataset dari file CSV\n",
        "data = pd.read_csv(\"Walmart.csv\")\n",
        "\n",
        "# Filter data hanya untuk minggu dengan status 1 (minggu liburan)\n",
        "holiday_week_data = data[data[\"Holiday_Flag\"] == 1]\n",
        "\n",
        "# Menghitung variansi dari kolom Weekly_Sales untuk minggu liburan\n",
        "holiday_week_variance = holiday_week_data[\"Weekly_Sales\"].var()\n",
        "\n",
        "# Menampilkan variansi\n",
        "print(\"Variansi minggu liburan:\", holiday_week_variance)\n",
        "\n",
        "# Filter data hanya untuk minggu dengan status 0 (minggu bukan liburan)\n",
        "non_holiday_week_data = data[data[\"Holiday_Flag\"] == 0]\n",
        "\n",
        "# Menghitung variansi dari kolom Weekly_Sales untuk minggu bukan liburan\n",
        "non_holiday_week_variance = non_holiday_week_data[\"Weekly_Sales\"].var()\n",
        "\n",
        "# Menampilkan variansi\n",
        "print(\"Variansi minggu bukan liburan:\", non_holiday_week_variance)"
      ],
      "metadata": {
        "colab": {
          "base_uri": "https://localhost:8080/"
        },
        "id": "VmYsWbO9D4S9",
        "outputId": "f50fbc43-6f37-43eb-c887-6f12a62bcba2"
      },
      "execution_count": 8,
      "outputs": [
        {
          "output_type": "stream",
          "name": "stdout",
          "text": [
            "Variansi minggu liburan: 393988373714.19293\n",
            "Variansi minggu bukan liburan: 312433415424.3812\n"
          ]
        }
      ]
    },
    {
      "cell_type": "code",
      "source": [
        "# 1e Brian Mohamad Safiudin\n",
        "\n",
        "import pandas as pd\n",
        "\n",
        "# Membaca dataset dari file CSV\n",
        "data = pd.read_csv(\"Walmart.csv\")\n",
        "\n",
        "# Menghitung rata-rata penjualan mingguan untuk setiap toko\n",
        "average_sales_by_store = data.groupby(\"Store\")[\"Weekly_Sales\"].mean()\n",
        "\n",
        "# Menampilkan rata-rata penjualan mingguan untuk setiap toko\n",
        "print(average_sales_by_store)\n",
        "\n",
        "# Memeriksa apakah rata-rata penjualan mingguan sama di setiap toko\n",
        "is_average_same = all(average_sales_by_store == average_sales_by_store.iloc[0])\n",
        "\n",
        "# Menampilkan hasil\n",
        "if is_average_same:\n",
        "    print(\"Rata-rata penjualan mingguan sama di setiap toko.\")\n",
        "else:\n",
        "    print(\"Rata-rata penjualan mingguan berbeda di setiap toko.\")"
      ],
      "metadata": {
        "colab": {
          "base_uri": "https://localhost:8080/"
        },
        "id": "g17pygN2C7F0",
        "outputId": "f3663962-4e2a-46ca-817d-8b545b22f5ee"
      },
      "execution_count": 9,
      "outputs": [
        {
          "output_type": "stream",
          "name": "stdout",
          "text": [
            "Store\n",
            "1     1.555264e+06\n",
            "2     1.925751e+06\n",
            "3     4.027044e+05\n",
            "4     2.094713e+06\n",
            "5     3.180118e+05\n",
            "6     1.564728e+06\n",
            "7     5.706173e+05\n",
            "8     9.087495e+05\n",
            "9     5.439806e+05\n",
            "10    1.899425e+06\n",
            "11    1.356383e+06\n",
            "12    1.009002e+06\n",
            "13    2.003620e+06\n",
            "14    2.020978e+06\n",
            "15    6.233125e+05\n",
            "16    5.192477e+05\n",
            "17    8.935814e+05\n",
            "18    1.084718e+06\n",
            "19    1.444999e+06\n",
            "20    2.107677e+06\n",
            "21    7.560691e+05\n",
            "22    1.028501e+06\n",
            "23    1.389864e+06\n",
            "24    1.356755e+06\n",
            "25    7.067215e+05\n",
            "26    1.002912e+06\n",
            "27    1.775216e+06\n",
            "28    1.323522e+06\n",
            "29    5.394514e+05\n",
            "30    4.385796e+05\n",
            "31    1.395901e+06\n",
            "32    1.166568e+06\n",
            "33    2.598617e+05\n",
            "34    9.667816e+05\n",
            "35    9.197250e+05\n",
            "36    3.735120e+05\n",
            "37    5.189003e+05\n",
            "38    3.857317e+05\n",
            "39    1.450668e+06\n",
            "40    9.641280e+05\n",
            "41    1.268125e+06\n",
            "42    5.564039e+05\n",
            "43    6.333247e+05\n",
            "44    3.027489e+05\n",
            "45    7.859814e+05\n",
            "Name: Weekly_Sales, dtype: float64\n",
            "Rata-rata penjualan mingguan berbeda di setiap toko.\n"
          ]
        }
      ]
    },
    {
      "cell_type": "code",
      "source": [
        "# 1f Brian Mohamad Safiudin\n",
        "\n",
        "import pandas as pd\n",
        "\n",
        "# Membaca dataset dari file CSV\n",
        "data = pd.read_csv(\"Walmart.csv\")\n",
        "\n",
        "# Menghitung nilai maksimum CPI untuk setiap toko\n",
        "max_cpi_by_store = data.groupby(\"Store\")[\"CPI\"].max()\n",
        "\n",
        "# Menampilkan nilai maksimum CPI untuk setiap toko\n",
        "print(max_cpi_by_store)\n",
        "\n",
        "# Menentukan CPI yang lebih tinggi dari setiap toko\n",
        "highest_cpi_store = max_cpi_by_store.idxmax()\n",
        "\n",
        "# Menampilkan hasil\n",
        "print(\"Toko dengan CPI tertinggi:\", highest_cpi_store)"
      ],
      "metadata": {
        "colab": {
          "base_uri": "https://localhost:8080/"
        },
        "id": "QpWWN8kIFH3u",
        "outputId": "fd4fd65f-8a63-4fc4-efe3-a848842eb1f0"
      },
      "execution_count": 11,
      "outputs": [
        {
          "output_type": "stream",
          "name": "stdout",
          "text": [
            "Store\n",
            "1     223.444251\n",
            "2     223.078337\n",
            "3     226.987364\n",
            "4     131.193097\n",
            "5     224.037814\n",
            "6     225.068625\n",
            "7     199.219532\n",
            "8     227.036936\n",
            "9     227.232807\n",
            "10    131.193097\n",
            "11    226.987364\n",
            "12    131.193097\n",
            "13    131.193097\n",
            "14    192.330854\n",
            "15    138.911700\n",
            "16    199.219532\n",
            "17    131.193097\n",
            "18    138.911700\n",
            "19    138.911700\n",
            "20    216.151590\n",
            "21    223.078337\n",
            "22    142.937617\n",
            "23    138.911700\n",
            "24    138.911700\n",
            "25    216.151590\n",
            "26    138.911700\n",
            "27    142.937617\n",
            "28    131.193097\n",
            "29    138.911700\n",
            "30    223.078337\n",
            "31    223.078337\n",
            "32    199.219532\n",
            "33    131.193097\n",
            "34    131.193097\n",
            "35    142.937617\n",
            "36    222.113657\n",
            "37    222.113657\n",
            "38    131.193097\n",
            "39    222.113657\n",
            "40    138.911700\n",
            "41    199.219532\n",
            "42    131.193097\n",
            "43    214.741539\n",
            "44    131.193097\n",
            "45    192.330854\n",
            "Name: CPI, dtype: float64\n",
            "Toko dengan CPI tertinggi: 9\n"
          ]
        }
      ]
    },
    {
      "cell_type": "code",
      "source": [
        "# 1g Brian Mohamad Safiudin\n",
        "\n",
        "import pandas as pd\n",
        "\n",
        "# Membaca dataset dari file CSV\n",
        "data = pd.read_csv(\"Walmart.csv\")\n",
        "\n",
        "# Filter data hanya untuk minggu liburan (holiday week)\n",
        "holiday_week_data = data[data[\"Holiday_Flag\"] == 1]\n",
        "\n",
        "# Hitung rata-rata CPI untuk minggu liburan\n",
        "average_cpi_holiday = holiday_week_data[\"CPI\"].mean()\n",
        "\n",
        "# Filter data hanya untuk minggu bukan liburan (non-holiday week)\n",
        "non_holiday_week_data = data[data[\"Holiday_Flag\"] == 0]\n",
        "\n",
        "# Hitung rata-rata CPI untuk minggu bukan liburan\n",
        "average_cpi_non_holiday = non_holiday_week_data[\"CPI\"].mean()\n",
        "\n",
        "# Membandingkan rata-rata CPI\n",
        "if average_cpi_holiday > average_cpi_non_holiday:\n",
        "    print(\"Rata-rata CPI lebih tinggi pada minggu liburan (holiday week).\")\n",
        "elif average_cpi_holiday < average_cpi_non_holiday:\n",
        "    print(\"Rata-rata CPI lebih tinggi pada minggu bukan liburan (non-holiday week).\")\n",
        "else:\n",
        "    print(\"Rata-rata CPI sama pada minggu liburan dan bukan liburan.\")"
      ],
      "metadata": {
        "colab": {
          "base_uri": "https://localhost:8080/"
        },
        "id": "gmWP0M8ZFNbA",
        "outputId": "f3d243f8-9484-4914-f920-0aed9bc91c3c"
      },
      "execution_count": 12,
      "outputs": [
        {
          "output_type": "stream",
          "name": "stdout",
          "text": [
            "Rata-rata CPI lebih tinggi pada minggu bukan liburan (non-holiday week).\n"
          ]
        }
      ]
    },
    {
      "cell_type": "code",
      "source": [
        "# 2a Brian Mohamad Safiudin\n",
        "\n",
        "import pandas as pd\n",
        "from scipy.stats import kstest\n",
        "\n",
        "data = pd.read_csv(\"Walmart.csv\")\n",
        "\n",
        "weekly_sales = data['Weekly_Sales']\n",
        "result_weekly_sales = kstest(weekly_sales, 'norm')\n",
        "\n",
        "fuel_price = data['Fuel_Price']\n",
        "result_fuel_price = kstest(fuel_price, 'norm')\n",
        "\n",
        "alpha = 0.05\n",
        "\n",
        "if result_weekly_sales.pvalue > alpha:\n",
        "    print(\"Kolom 'Weekly_Sales' berdasar dari distribusi normal.\")\n",
        "else:\n",
        "    print(\"Kolom 'Weekly_Sales' tidak berdasar dari distribusi normal.\")\n",
        "\n",
        "if result_fuel_price.pvalue > alpha:\n",
        "    print(\"Kolom 'Fuel_Price' berdasar dari distribusi normal.\")\n",
        "else:\n",
        "    print(\"Kolom 'Fuel_Price' tidak berdasar dari distribusi normal.\")"
      ],
      "metadata": {
        "colab": {
          "base_uri": "https://localhost:8080/"
        },
        "id": "P9lV1EvEGmZu",
        "outputId": "fbaa6adb-5835-48f4-9e4a-eabe0bf09ccf"
      },
      "execution_count": 13,
      "outputs": [
        {
          "output_type": "stream",
          "name": "stdout",
          "text": [
            "Kolom 'Weekly_Sales' tidak berdasar dari distribusi normal.\n",
            "Kolom 'Fuel_Price' tidak berdasar dari distribusi normal.\n"
          ]
        }
      ]
    },
    {
      "cell_type": "code",
      "source": [
        "# 3a Brian Mohamad Safiudin\n",
        "\n",
        "import pandas as pd\n",
        "from scipy.stats import pearsonr\n",
        "\n",
        "data = pd.read_csv(\"Walmart.csv\")\n",
        "independent_variables = ['Store', 'Holiday_Flag', 'Temperature', 'Fuel_Price', 'CPI', 'Unemployment']\n",
        "dependent_variable = 'Weekly_Sales'\n",
        "correlations = {}\n",
        "\n",
        "for variable in independent_variables:\n",
        "    correlation, _ = pearsonr(data[variable], data[dependent_variable])\n",
        "    correlations[variable] = correlation\n",
        "\n",
        "for variable, correlation in correlations.items():\n",
        "    print(f\"Korelasi antara {variable} dan {dependent_variable}: {correlation}\")"
      ],
      "metadata": {
        "colab": {
          "base_uri": "https://localhost:8080/"
        },
        "id": "xzvjJbz4IkUn",
        "outputId": "af8d1504-9b2c-48e0-c3be-16cfe7a682e6"
      },
      "execution_count": 14,
      "outputs": [
        {
          "output_type": "stream",
          "name": "stdout",
          "text": [
            "Korelasi antara Store dan Weekly_Sales: -0.33533201479281577\n",
            "Korelasi antara Holiday_Flag dan Weekly_Sales: 0.036890968010414506\n",
            "Korelasi antara Temperature dan Weekly_Sales: -0.06381001317946956\n",
            "Korelasi antara Fuel_Price dan Weekly_Sales: 0.009463786314475135\n",
            "Korelasi antara CPI dan Weekly_Sales: -0.07263416204017623\n",
            "Korelasi antara Unemployment dan Weekly_Sales: -0.10617608965795423\n"
          ]
        }
      ]
    },
    {
      "cell_type": "code",
      "source": [
        "# 3b Brian Mohamad Safiudin\n",
        "\n",
        "negative_correlations = []\n",
        "\n",
        "for variable, correlation in correlations.items():\n",
        "    if correlation < 0:\n",
        "        negative_correlations.append((variable, dependent_variable))\n",
        "\n",
        "if len(negative_correlations) > 0:\n",
        "    print(\"Pasangan variabel independent dan dependent dengan korelasi negatif:\")\n",
        "    for pair in negative_correlations:\n",
        "        print(f\"{pair[0]} dan {pair[1]}\")\n",
        "else:\n",
        "    print(\"Tidak ada pasangan variabel independent dan dependent dengan korelasi negatif.\")"
      ],
      "metadata": {
        "colab": {
          "base_uri": "https://localhost:8080/"
        },
        "id": "y1h4DYmKI8j7",
        "outputId": "7417c093-5691-487e-a2cc-f1f7944dabf9"
      },
      "execution_count": 15,
      "outputs": [
        {
          "output_type": "stream",
          "name": "stdout",
          "text": [
            "Pasangan variabel independent dan dependent dengan korelasi negatif:\n",
            "Store dan Weekly_Sales\n",
            "Temperature dan Weekly_Sales\n",
            "CPI dan Weekly_Sales\n",
            "Unemployment dan Weekly_Sales\n"
          ]
        }
      ]
    },
    {
      "cell_type": "code",
      "source": [
        "# 4 Brian Mohamad Safiudin\n",
        "\n",
        "import pandas as pd\n",
        "import statsmodels.api as sm\n",
        "\n",
        "data = pd.read_csv(\"Walmart.csv\")\n",
        "dependent_variable = data['Weekly_Sales']\n",
        "independent_variable = data['Fuel_Price']\n",
        "independent_variable = sm.add_constant(independent_variable)\n",
        "model = sm.OLS(dependent_variable, independent_variable)\n",
        "result = model.fit()\n",
        "intercept = result.params[0]\n",
        "slope = result.params[1]\n",
        "\n",
        "print(f\"Model regresi: y = {intercept} + {slope} * x\")"
      ],
      "metadata": {
        "colab": {
          "base_uri": "https://localhost:8080/"
        },
        "id": "yAzdBNzPJS2_",
        "outputId": "2b1aefcc-48cb-4dfe-e123-c76ef6933472"
      },
      "execution_count": 16,
      "outputs": [
        {
          "output_type": "stream",
          "name": "stdout",
          "text": [
            "Model regresi: y = 1007884.9200801762 + 11635.76428297975 * x\n"
          ]
        }
      ]
    }
  ]
}