{
  "nbformat": 4,
  "nbformat_minor": 0,
  "metadata": {
    "colab": {
      "provenance": [],
      "authorship_tag": "ABX9TyOTU33z0EoBtnX1nust9xap",
      "include_colab_link": true
    },
    "kernelspec": {
      "name": "python3",
      "display_name": "Python 3"
    },
    "language_info": {
      "name": "python"
    }
  },
  "cells": [
    {
      "cell_type": "markdown",
      "metadata": {
        "id": "view-in-github",
        "colab_type": "text"
      },
      "source": [
        "<a href=\"https://colab.research.google.com/github/BrianMohamadSafiudin/Statistik-Komputasi/blob/main/UTSBrian_StatistikKomputasi.ipynb\" target=\"_parent\"><img src=\"https://colab.research.google.com/assets/colab-badge.svg\" alt=\"Open In Colab\"/></a>"
      ]
    },
    {
      "cell_type": "code",
      "execution_count": 1,
      "metadata": {
        "colab": {
          "base_uri": "https://localhost:8080/",
          "height": 73
        },
        "id": "f_Oquutlc1fK",
        "outputId": "27600189-ba45-4ce2-948b-0c71d1ea428d"
      },
      "outputs": [
        {
          "output_type": "display_data",
          "data": {
            "text/plain": [
              "<IPython.core.display.HTML object>"
            ],
            "text/html": [
              "\n",
              "     <input type=\"file\" id=\"files-7d6229eb-a35f-4048-bc60-c3727993289c\" name=\"files[]\" multiple disabled\n",
              "        style=\"border:none\" />\n",
              "     <output id=\"result-7d6229eb-a35f-4048-bc60-c3727993289c\">\n",
              "      Upload widget is only available when the cell has been executed in the\n",
              "      current browser session. Please rerun this cell to enable.\n",
              "      </output>\n",
              "      <script>// Copyright 2017 Google LLC\n",
              "//\n",
              "// Licensed under the Apache License, Version 2.0 (the \"License\");\n",
              "// you may not use this file except in compliance with the License.\n",
              "// You may obtain a copy of the License at\n",
              "//\n",
              "//      http://www.apache.org/licenses/LICENSE-2.0\n",
              "//\n",
              "// Unless required by applicable law or agreed to in writing, software\n",
              "// distributed under the License is distributed on an \"AS IS\" BASIS,\n",
              "// WITHOUT WARRANTIES OR CONDITIONS OF ANY KIND, either express or implied.\n",
              "// See the License for the specific language governing permissions and\n",
              "// limitations under the License.\n",
              "\n",
              "/**\n",
              " * @fileoverview Helpers for google.colab Python module.\n",
              " */\n",
              "(function(scope) {\n",
              "function span(text, styleAttributes = {}) {\n",
              "  const element = document.createElement('span');\n",
              "  element.textContent = text;\n",
              "  for (const key of Object.keys(styleAttributes)) {\n",
              "    element.style[key] = styleAttributes[key];\n",
              "  }\n",
              "  return element;\n",
              "}\n",
              "\n",
              "// Max number of bytes which will be uploaded at a time.\n",
              "const MAX_PAYLOAD_SIZE = 100 * 1024;\n",
              "\n",
              "function _uploadFiles(inputId, outputId) {\n",
              "  const steps = uploadFilesStep(inputId, outputId);\n",
              "  const outputElement = document.getElementById(outputId);\n",
              "  // Cache steps on the outputElement to make it available for the next call\n",
              "  // to uploadFilesContinue from Python.\n",
              "  outputElement.steps = steps;\n",
              "\n",
              "  return _uploadFilesContinue(outputId);\n",
              "}\n",
              "\n",
              "// This is roughly an async generator (not supported in the browser yet),\n",
              "// where there are multiple asynchronous steps and the Python side is going\n",
              "// to poll for completion of each step.\n",
              "// This uses a Promise to block the python side on completion of each step,\n",
              "// then passes the result of the previous step as the input to the next step.\n",
              "function _uploadFilesContinue(outputId) {\n",
              "  const outputElement = document.getElementById(outputId);\n",
              "  const steps = outputElement.steps;\n",
              "\n",
              "  const next = steps.next(outputElement.lastPromiseValue);\n",
              "  return Promise.resolve(next.value.promise).then((value) => {\n",
              "    // Cache the last promise value to make it available to the next\n",
              "    // step of the generator.\n",
              "    outputElement.lastPromiseValue = value;\n",
              "    return next.value.response;\n",
              "  });\n",
              "}\n",
              "\n",
              "/**\n",
              " * Generator function which is called between each async step of the upload\n",
              " * process.\n",
              " * @param {string} inputId Element ID of the input file picker element.\n",
              " * @param {string} outputId Element ID of the output display.\n",
              " * @return {!Iterable<!Object>} Iterable of next steps.\n",
              " */\n",
              "function* uploadFilesStep(inputId, outputId) {\n",
              "  const inputElement = document.getElementById(inputId);\n",
              "  inputElement.disabled = false;\n",
              "\n",
              "  const outputElement = document.getElementById(outputId);\n",
              "  outputElement.innerHTML = '';\n",
              "\n",
              "  const pickedPromise = new Promise((resolve) => {\n",
              "    inputElement.addEventListener('change', (e) => {\n",
              "      resolve(e.target.files);\n",
              "    });\n",
              "  });\n",
              "\n",
              "  const cancel = document.createElement('button');\n",
              "  inputElement.parentElement.appendChild(cancel);\n",
              "  cancel.textContent = 'Cancel upload';\n",
              "  const cancelPromise = new Promise((resolve) => {\n",
              "    cancel.onclick = () => {\n",
              "      resolve(null);\n",
              "    };\n",
              "  });\n",
              "\n",
              "  // Wait for the user to pick the files.\n",
              "  const files = yield {\n",
              "    promise: Promise.race([pickedPromise, cancelPromise]),\n",
              "    response: {\n",
              "      action: 'starting',\n",
              "    }\n",
              "  };\n",
              "\n",
              "  cancel.remove();\n",
              "\n",
              "  // Disable the input element since further picks are not allowed.\n",
              "  inputElement.disabled = true;\n",
              "\n",
              "  if (!files) {\n",
              "    return {\n",
              "      response: {\n",
              "        action: 'complete',\n",
              "      }\n",
              "    };\n",
              "  }\n",
              "\n",
              "  for (const file of files) {\n",
              "    const li = document.createElement('li');\n",
              "    li.append(span(file.name, {fontWeight: 'bold'}));\n",
              "    li.append(span(\n",
              "        `(${file.type || 'n/a'}) - ${file.size} bytes, ` +\n",
              "        `last modified: ${\n",
              "            file.lastModifiedDate ? file.lastModifiedDate.toLocaleDateString() :\n",
              "                                    'n/a'} - `));\n",
              "    const percent = span('0% done');\n",
              "    li.appendChild(percent);\n",
              "\n",
              "    outputElement.appendChild(li);\n",
              "\n",
              "    const fileDataPromise = new Promise((resolve) => {\n",
              "      const reader = new FileReader();\n",
              "      reader.onload = (e) => {\n",
              "        resolve(e.target.result);\n",
              "      };\n",
              "      reader.readAsArrayBuffer(file);\n",
              "    });\n",
              "    // Wait for the data to be ready.\n",
              "    let fileData = yield {\n",
              "      promise: fileDataPromise,\n",
              "      response: {\n",
              "        action: 'continue',\n",
              "      }\n",
              "    };\n",
              "\n",
              "    // Use a chunked sending to avoid message size limits. See b/62115660.\n",
              "    let position = 0;\n",
              "    do {\n",
              "      const length = Math.min(fileData.byteLength - position, MAX_PAYLOAD_SIZE);\n",
              "      const chunk = new Uint8Array(fileData, position, length);\n",
              "      position += length;\n",
              "\n",
              "      const base64 = btoa(String.fromCharCode.apply(null, chunk));\n",
              "      yield {\n",
              "        response: {\n",
              "          action: 'append',\n",
              "          file: file.name,\n",
              "          data: base64,\n",
              "        },\n",
              "      };\n",
              "\n",
              "      let percentDone = fileData.byteLength === 0 ?\n",
              "          100 :\n",
              "          Math.round((position / fileData.byteLength) * 100);\n",
              "      percent.textContent = `${percentDone}% done`;\n",
              "\n",
              "    } while (position < fileData.byteLength);\n",
              "  }\n",
              "\n",
              "  // All done.\n",
              "  yield {\n",
              "    response: {\n",
              "      action: 'complete',\n",
              "    }\n",
              "  };\n",
              "}\n",
              "\n",
              "scope.google = scope.google || {};\n",
              "scope.google.colab = scope.google.colab || {};\n",
              "scope.google.colab._files = {\n",
              "  _uploadFiles,\n",
              "  _uploadFilesContinue,\n",
              "};\n",
              "})(self);\n",
              "</script> "
            ]
          },
          "metadata": {}
        },
        {
          "output_type": "stream",
          "name": "stdout",
          "text": [
            "Saving pop1.csv to pop1 (1).csv\n"
          ]
        }
      ],
      "source": [
        "from google.colab import files\n",
        "uploaded = files.upload()"
      ]
    },
    {
      "cell_type": "code",
      "source": [
        "# 1a Brian Mohamad Safiudin\n",
        "\n",
        "import pandas as pd\n",
        "import math\n",
        "df = pd.read_csv('pop1.csv')\n",
        "\n",
        "mean_height = df['height'].mean()\n",
        "var_height = df['height'].var()\n",
        "std_height = df['height'].std()\n",
        "\n",
        "print(\"Nilai Mean Tinggi:           {:.3f}\".format(mean_height))\n",
        "print(\"Nilai Varians Tinggi:        {:.3f}\".format(var_height))\n",
        "print(\"Nilai Simpangan Baku Tinggi: {:.3f}\".format(std_height))"
      ],
      "metadata": {
        "colab": {
          "base_uri": "https://localhost:8080/"
        },
        "id": "yC3c4XI9d5GV",
        "outputId": "f6d7479e-a02b-4902-9715-dbd559fe3386"
      },
      "execution_count": 2,
      "outputs": [
        {
          "output_type": "stream",
          "name": "stdout",
          "text": [
            "Nilai Mean Tinggi:           170.035\n",
            "Nilai Varians Tinggi:        126.159\n",
            "Nilai Simpangan Baku Tinggi: 11.232\n"
          ]
        }
      ]
    },
    {
      "cell_type": "code",
      "source": [
        "# 1b Brian Mohamad Safiudin\n",
        "\n",
        "df = df.sort_values('height')\n",
        "\n",
        "q1 = df['height'].quantile(0.25, interpolation='midpoint')\n",
        "print(\"Q1: \", q1)\n",
        "\n",
        "q2 = df['height'].median()\n",
        "print(\"Q2: \", q2)\n",
        "\n",
        "q3 = df['height'].quantile(0.75, interpolation='midpoint')\n",
        "print(\"Q3: \", q3)"
      ],
      "metadata": {
        "colab": {
          "base_uri": "https://localhost:8080/"
        },
        "id": "DxUM_q7Phvsm",
        "outputId": "f556198a-843b-4804-ce0c-4c57c64fc487"
      },
      "execution_count": 3,
      "outputs": [
        {
          "output_type": "stream",
          "name": "stdout",
          "text": [
            "Q1:  162.0\n",
            "Q2:  170.0\n",
            "Q3:  178.0\n"
          ]
        }
      ]
    },
    {
      "cell_type": "code",
      "source": [
        "# 1c Brian Mohamad Safiudin\n",
        "\n",
        "q1 = df['height'].quantile(0.25)\n",
        "q3 = df['height'].quantile(0.75)\n",
        "\n",
        "iqr = q3 - q1\n",
        "\n",
        "lower_bound = q1 - (1.5 * iqr)\n",
        "upper_bound = q3 + (1.5 * iqr)\n",
        "\n",
        "outliers = df[(df['height'] < lower_bound) | (df['height'] > upper_bound)]\n",
        "outliers_count = len(outliers)\n",
        "\n",
        "print(\"Jumlah Outlier: \", outliers_count)"
      ],
      "metadata": {
        "colab": {
          "base_uri": "https://localhost:8080/"
        },
        "id": "9So2rXMHjYrl",
        "outputId": "d021c2d0-a302-4ebe-c0d5-dfc331d8ca06"
      },
      "execution_count": 4,
      "outputs": [
        {
          "output_type": "stream",
          "name": "stdout",
          "text": [
            "Jumlah Outlier:  304\n"
          ]
        }
      ]
    },
    {
      "cell_type": "code",
      "source": [
        "# 2a Brian Mohamad Safiudin\n",
        "\n",
        "import pandas as pd\n",
        "import matplotlib.pyplot as plt\n",
        "df = pd.read_csv('pop1.csv')\n",
        "\n",
        "plt.boxplot(df['height'], vert=False)\n",
        "plt.xlabel('Height')\n",
        "plt.title('Boxplot Tinggi')\n",
        "plt.show()"
      ],
      "metadata": {
        "colab": {
          "base_uri": "https://localhost:8080/",
          "height": 472
        },
        "id": "Bpu5iGMutg0N",
        "outputId": "344c5e0d-6626-49e0-ee67-949c3161daf6"
      },
      "execution_count": 5,
      "outputs": [
        {
          "output_type": "display_data",
          "data": {
            "text/plain": [
              "<Figure size 640x480 with 1 Axes>"
            ],
            "image/png": "[encoded data removed]"
          },
          "metadata": {}
        }
      ]
    },
    {
      "cell_type": "code",
      "source": [
        "# 2b Brian Mohamad Safiudin\n",
        "\n",
        "plt.hist(df['height'], bins=100)\n",
        "plt.xlabel('Height')\n",
        "plt.ylabel('Frequency')\n",
        "plt.title('Histogram Tinggi')\n",
        "plt.show()"
      ],
      "metadata": {
        "colab": {
          "base_uri": "https://localhost:8080/",
          "height": 472
        },
        "id": "q2tgSTocud-o",
        "outputId": "421f5fc8-71a9-4084-ddc6-3d1ecf81c861"
      },
      "execution_count": 6,
      "outputs": [
        {
          "output_type": "display_data",
          "data": {
            "text/plain": [
              "<Figure size 640x480 with 1 Axes>"
            ],
            "image/png": "[encoded data removed]"
          },
          "metadata": {}
        }
      ]
    },
    {
      "cell_type": "code",
      "source": [
        "# 3a Brian Mohamad Safiudin\n",
        "\n",
        "import pandas as pd\n",
        "from scipy import stats\n",
        "df = pd.read_csv('pop1.csv')\n",
        "\n",
        "mean = round(df[\"height\"].mean(), 3)\n",
        "std_dev = round(df[\"height\"].std(), 3)\n",
        "\n",
        "height = 175\n",
        "z_scores = round((height - mean) / std_dev, 2)\n",
        "\n",
        "print(\"Nilai z-score untuk orang tinggi hingga 175cm:\", z_scores)"
      ],
      "metadata": {
        "colab": {
          "base_uri": "https://localhost:8080/"
        },
        "id": "jK9ot3Wfvstl",
        "outputId": "bfc65a3c-b195-4dfe-8770-ae49e79c39c3"
      },
      "execution_count": 7,
      "outputs": [
        {
          "output_type": "stream",
          "name": "stdout",
          "text": [
            "Nilai z-score untuk orang tinggi hingga 175cm: 0.44\n"
          ]
        }
      ]
    },
    {
      "cell_type": "code",
      "source": [
        "# 3b Brian Mohamad Safiudin\n",
        "\n",
        "mean = round(df[\"height\"].mean(), 3)\n",
        "std_dev = round(df[\"height\"].std(), 3)\n",
        "\n",
        "height = 175\n",
        "prob = 1 - stats.norm.cdf(height, mean, std_dev)\n",
        "percent_prob = round(prob * 100, 2)\n",
        "\n",
        "print(\"Peluang orang dengan tinggi lebih dari 175 cm:\", round(prob, 3),\" ~ \", percent_prob,\"%\")\n"
      ],
      "metadata": {
        "colab": {
          "base_uri": "https://localhost:8080/"
        },
        "id": "dUEkyndKvsHr",
        "outputId": "1b2b7cd1-e9ba-47d9-dbe1-64d992b5b62e"
      },
      "execution_count": 8,
      "outputs": [
        {
          "output_type": "stream",
          "name": "stdout",
          "text": [
            "Peluang orang dengan tinggi lebih dari 175 cm: 0.329  ~  32.92 %\n"
          ]
        }
      ]
    },
    {
      "cell_type": "code",
      "source": [
        "# 4a Brian Mohamad Safiudin\n",
        "\n",
        "import pandas as pd\n",
        "df = pd.read_csv(\"pop1.csv\")\n",
        "\n",
        "num_males = len(df[df[\"sex\"] == \"MALE\"])\n",
        "num_females = len(df[df[\"sex\"] == \"FEMALE\"])\n",
        "\n",
        "total = len(df)\n",
        "prob_male = num_males / total\n",
        "percent_prob_male = round(prob_male * 100, 2)\n",
        "prob_female = num_females / total\n",
        "percent_prob_female = round(prob_female * 100, 2)\n",
        "\n",
        "print(\"Peluang Male:  \", round(prob_male, 2),\" ~ \", percent_prob_male,\"%\")\n",
        "print(\"Peluang Female:\", round(prob_female, 2),\" ~ \", percent_prob_female,\"%\")"
      ],
      "metadata": {
        "colab": {
          "base_uri": "https://localhost:8080/"
        },
        "id": "1nVMLsVT1tSz",
        "outputId": "3ef5f459-9bd2-4bdd-f626-8b4f4c266197"
      },
      "execution_count": 9,
      "outputs": [
        {
          "output_type": "stream",
          "name": "stdout",
          "text": [
            "Peluang Male:   0.51  ~  51.11 %\n",
            "Peluang Female: 0.49  ~  48.89 %\n"
          ]
        }
      ]
    },
    {
      "cell_type": "code",
      "source": [
        "# 4b Brian Mohamad Safiudin\n",
        "\n",
        "import math\n",
        "\n",
        "n = 10\n",
        "x = 3\n",
        "p = prob_male\n",
        "prob_3males = (math.comb(n, x)) * (p**x) * ((1-p)**(n-x))\n",
        "percent_prob_3males = round(prob_3males * 100, 2)\n",
        "\n",
        "print(\"Peluang terpilih 3 laki dari pemilihan acak 10 kali:\", round(prob_3males, 4),\" ~ \", percent_prob_3males,\"%\")"
      ],
      "metadata": {
        "colab": {
          "base_uri": "https://localhost:8080/"
        },
        "id": "Km-6yfc43Nio",
        "outputId": "c7b2a382-5f1c-4302-ec34-8c3da9d21bd1"
      },
      "execution_count": 10,
      "outputs": [
        {
          "output_type": "stream",
          "name": "stdout",
          "text": [
            "Peluang terpilih 3 laki dari pemilihan acak 10 kali: 0.1069  ~  10.69 %\n"
          ]
        }
      ]
    },
    {
      "cell_type": "code",
      "source": [
        "# 4c Brian Mohamad Safiudin\n",
        "\n",
        "import matplotlib.pyplot as plt\n",
        "\n",
        "x = list(range(11))\n",
        "y = [math.comb(10, i) * prob_male**i * (1 - prob_male)**(10-i) for i in x]\n",
        "\n",
        "plt.bar(x, y)\n",
        "plt.xlabel(\"Jumlah laki terpilih\")\n",
        "plt.ylabel(\"Peluang\")\n",
        "plt.title(\"Sebaran jumlah laki terpilih\")\n",
        "plt.show()\n"
      ],
      "metadata": {
        "colab": {
          "base_uri": "https://localhost:8080/",
          "height": 472
        },
        "id": "lyyBkRm04WmY",
        "outputId": "a63a986e-634a-4e0b-990b-3b33ef59341b"
      },
      "execution_count": 11,
      "outputs": [
        {
          "output_type": "display_data",
          "data": {
            "text/plain": [
              "<Figure size 640x480 with 1 Axes>"
            ],
            "image/png": "[encoded data removed]"
          },
          "metadata": {}
        }
      ]
    }
  ]
}